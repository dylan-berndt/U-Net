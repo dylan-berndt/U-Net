{
 "cells": [
  {
   "cell_type": "code",
   "execution_count": 1,
   "metadata": {},
   "outputs": [
    {
     "name": "stdout",
     "output_type": "stream",
     "text": [
      "val 5/5/200\r"
     ]
    }
   ],
   "source": [
    "from network import *\n",
    "\n",
    "labels = loadLabels('CamVid/')\n",
    "\n",
    "train_x, train_y = loadDataset('CamVid/', 'train', 50, labels)\n",
    "test_x, test_y = loadDataset('CamVid/', 'test', 20, labels)\n",
    "val_x, val_y = loadDataset('CamVid/', 'val', 5, labels)"
   ]
  },
  {
   "cell_type": "code",
   "execution_count": 2,
   "metadata": {
    "collapsed": false,
    "jupyter": {
     "outputs_hidden": false
    },
    "pycharm": {
     "name": "#%%\n"
    }
   },
   "outputs": [],
   "source": [
    "imageSize = train_x[0].shape\n",
    "\n",
    "model = createUNet(imageSize, [3, 3], 4, len(labels))\n",
    "\n",
    "model.compile(optimizer='adam', loss='binary_crossentropy', metrics=['accuracy'])"
   ]
  },
  {
   "cell_type": "code",
   "execution_count": 3,
   "metadata": {
    "collapsed": false,
    "jupyter": {
     "outputs_hidden": false
    },
    "pycharm": {
     "name": "#%%\n"
    }
   },
   "outputs": [
    {
     "name": "stdout",
     "output_type": "stream",
     "text": [
      "Epoch 1/10\n",
      "\u001B[1m25/25\u001B[0m \u001B[32m━━━━━━━━━━━━━━━━━━━━\u001B[0m\u001B[37m\u001B[0m \u001B[1m31s\u001B[0m 1s/step - accuracy: 0.0784 - loss: 0.3757\n",
      "Epoch 2/10\n",
      "\u001B[1m25/25\u001B[0m \u001B[32m━━━━━━━━━━━━━━━━━━━━\u001B[0m\u001B[37m\u001B[0m \u001B[1m26s\u001B[0m 1s/step - accuracy: 0.3173 - loss: 0.1363\n",
      "Epoch 3/10\n",
      "\u001B[1m25/25\u001B[0m \u001B[32m━━━━━━━━━━━━━━━━━━━━\u001B[0m\u001B[37m\u001B[0m \u001B[1m26s\u001B[0m 1s/step - accuracy: 0.3142 - loss: 0.1215\n",
      "Epoch 4/10\n",
      "\u001B[1m25/25\u001B[0m \u001B[32m━━━━━━━━━━━━━━━━━━━━\u001B[0m\u001B[37m\u001B[0m \u001B[1m42s\u001B[0m 1s/step - accuracy: 0.3773 - loss: 0.1151\n",
      "Epoch 5/10\n",
      "\u001B[1m25/25\u001B[0m \u001B[32m━━━━━━━━━━━━━━━━━━━━\u001B[0m\u001B[37m\u001B[0m \u001B[1m40s\u001B[0m 1s/step - accuracy: 0.4019 - loss: 0.1052\n",
      "Epoch 6/10\n",
      "\u001B[1m25/25\u001B[0m \u001B[32m━━━━━━━━━━━━━━━━━━━━\u001B[0m\u001B[37m\u001B[0m \u001B[1m26s\u001B[0m 1s/step - accuracy: 0.3987 - loss: 0.1014\n",
      "Epoch 7/10\n",
      "\u001B[1m25/25\u001B[0m \u001B[32m━━━━━━━━━━━━━━━━━━━━\u001B[0m\u001B[37m\u001B[0m \u001B[1m26s\u001B[0m 1s/step - accuracy: 0.4138 - loss: 0.0975\n",
      "Epoch 8/10\n",
      "\u001B[1m25/25\u001B[0m \u001B[32m━━━━━━━━━━━━━━━━━━━━\u001B[0m\u001B[37m\u001B[0m \u001B[1m29s\u001B[0m 1s/step - accuracy: 0.4137 - loss: 0.0973\n",
      "Epoch 9/10\n",
      "\u001B[1m25/25\u001B[0m \u001B[32m━━━━━━━━━━━━━━━━━━━━\u001B[0m\u001B[37m\u001B[0m \u001B[1m26s\u001B[0m 1s/step - accuracy: 0.4121 - loss: 0.0935\n",
      "Epoch 10/10\n",
      "\u001B[1m25/25\u001B[0m \u001B[32m━━━━━━━━━━━━━━━━━━━━\u001B[0m\u001B[37m\u001B[0m \u001B[1m26s\u001B[0m 1s/step - accuracy: 0.4374 - loss: 0.0940\n"
     ]
    }
   ],
   "source": [
    "trained = model.fit(train_x, train_y, batch_size=2, epochs=10)"
   ]
  },
  {
   "cell_type": "code",
   "execution_count": 4,
   "metadata": {
    "collapsed": false,
    "jupyter": {
     "outputs_hidden": false
    },
    "pycharm": {
     "name": "#%%\n"
    }
   },
   "outputs": [
    {
     "name": "stdout",
     "output_type": "stream",
     "text": [
      "1/1 - 36s - 36s/step - accuracy: 0.3571 - loss: 0.0949\n",
      "Test loss: 0.0949370265007019\n",
      "Test accuracy: 0.3570508658885956\n"
     ]
    }
   ],
   "source": [
    "test_scores = model.evaluate(test_x, test_y, verbose=2)\n",
    "print(\"Test loss:\", test_scores[0])\n",
    "print(\"Test accuracy:\", test_scores[1])"
   ]
  },
  {
   "cell_type": "code",
   "execution_count": 6,
   "metadata": {
    "collapsed": false,
    "jupyter": {
     "outputs_hidden": false
    },
    "pycharm": {
     "name": "#%%\n"
    }
   },
   "outputs": [
    {
     "name": "stdout",
     "output_type": "stream",
     "text": [
      "\u001B[1m1/1\u001B[0m \u001B[32m━━━━━━━━━━━━━━━━━━━━\u001B[0m\u001B[37m\u001B[0m \u001B[1m14s\u001B[0m 14s/step\n"
     ]
    }
   ],
   "source": [
    "del train_x, train_y\n",
    "predictions = model.predict(test_x)"
   ]
  },
  {
   "cell_type": "code",
   "execution_count": null,
   "metadata": {
    "collapsed": false,
    "jupyter": {
     "outputs_hidden": false
    },
    "pycharm": {
     "name": "#%%\n"
    }
   },
   "outputs": [],
   "source": [
    "import matplotlib.pyplot as plt\n",
    "\n",
    "\n",
    "def colorizeRow(encoded):\n",
    "    index = np.argmax(encoded)\n",
    "    color = list(map(int, labels[index][1]))\n",
    "    return color\n",
    "\n",
    "\n",
    "def colorizeImage(image):\n",
    "    return np.array(list(list(map(colorizeRow, row)) for row in image), dtype=np.uint8)\n",
    "\n",
    "\n",
    "totalCheck = 10\n",
    "\n",
    "for checkNum in range(totalCheck):\n",
    "    predictionToShow = predictions[checkNum]\n",
    "    groundTruth = test_y[checkNum]\n",
    "    \n",
    "    originalImage = test_x[checkNum]\n",
    "    groundImage = colorizeImage(groundTruth)\n",
    "    predictionImage = colorizeImage(predictionToShow)\n",
    "    \n",
    "    fig = plt.figure(figsize=(18, 6 * totalCheck)) \n",
    "    fig.add_subplot(totalCheck, 3, checkNum * 3 + 1) \n",
    "    plt.axis('off') \n",
    "    plt.title(\"Original\")\n",
    "    plt.imshow(originalImage, interpolation='nearest')\n",
    "    \n",
    "    fig.add_subplot(totalCheck, 3, checkNum * 3 + 2) \n",
    "    plt.axis('off') \n",
    "    plt.title(\"Ground Truth\")\n",
    "    plt.imshow(groundImage, interpolation='nearest')\n",
    "    \n",
    "    fig.add_subplot(totalCheck, 3, checkNum * 3 + 3)\n",
    "    plt.axis('off') \n",
    "    plt.title(\"Prediction\")\n",
    "    plt.imshow(predictionImage, interpolation='nearest')\n",
    "    \n",
    "plt.show()"
   ]
  },
  {
   "cell_type": "code",
   "execution_count": null,
   "metadata": {},
   "outputs": [],
   "source": []
  }
 ],
 "metadata": {
  "kernelspec": {
   "display_name": "Python 3 (ipykernel)",
   "language": "python",
   "name": "python3"
  },
  "language_info": {
   "codemirror_mode": {
    "name": "ipython",
    "version": 3
   },
   "file_extension": ".py",
   "mimetype": "text/x-python",
   "name": "python",
   "nbconvert_exporter": "python",
   "pygments_lexer": "ipython3",
   "version": "3.9.6"
  }
 },
 "nbformat": 4,
 "nbformat_minor": 4
}